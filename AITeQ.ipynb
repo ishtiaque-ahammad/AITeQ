{
  "cells": [
    {
      "cell_type": "markdown",
      "source": [
        "#AITeQ (Alzheimer's Identification Tool using RNA-Seq)"
      ],
      "metadata": {
        "id": "5i6t5nVgNtqg"
      }
    },
    {
      "cell_type": "markdown",
      "source": [
        "#Upload Input File"
      ],
      "metadata": {
        "id": "ZjOShPhi5kLC"
      }
    },
    {
      "cell_type": "code",
      "execution_count": null,
      "metadata": {
        "id": "Da3hnOxtIcd3"
      },
      "outputs": [],
      "source": [
        "# Import required libraries\n",
        "from google.colab import files\n",
        "# Upload the CSV file from your local computer\n",
        "uploaded = files.upload()"
      ]
    },
    {
      "cell_type": "markdown",
      "source": [
        "#Make Predictions"
      ],
      "metadata": {
        "id": "EAJiugxgSXfG"
      }
    },
    {
      "cell_type": "code",
      "source": [
        "!git clone https://github.com/ishtiaque-ahammad/AITeQ.git\n",
        "\n",
        "#Import numpy\n",
        "import numpy as np\n",
        "#Import pandas\n",
        "import pandas as pd\n",
        "#Import seaborn\n",
        "import seaborn as sns\n",
        "#Import matplotlib\n",
        "import matplotlib.pyplot as plt\n",
        "%matplotlib inline\n",
        "import joblib\n",
        "\n",
        "#Read the csv file\n",
        "\n",
        "# Check the uploaded files\n",
        "for filename in uploaded.keys():\n",
        "    print(f'Uploaded file: {filename}')\n",
        "\n",
        "# Assuming you want to read the first uploaded CSV file into a DataFrame\n",
        "if uploaded:\n",
        "    file_name = list(uploaded.keys())[0]  # Get the name of the first uploaded file\n",
        "    df = pd.read_csv(file_name)\n",
        "    print(f'File \"{file_name}\" has been successfully loaded into df.')\n",
        "else:\n",
        "    print('No CSV file was uploaded.')\n",
        "\n",
        "#Subset the selected features\n",
        "\n",
        "# List of features to be selected\n",
        "selected_genes = [\"ITGA10\", \"CXCR4\", \"ADCYAP1\", \"SLC6A12\", \"VGF\"]\n",
        "\n",
        "# Filter the features from df DataFrame and create X\n",
        "X = df[selected_genes].copy()\n",
        "\n",
        "#Scale the input data\n",
        "from sklearn import preprocessing\n",
        "scaler = preprocessing.StandardScaler()\n",
        "scaled_X = scaler.fit_transform(X)\n",
        "scaled_X = pd.DataFrame(scaled_X)\n",
        "\n",
        "#Import the AITeQ model\n",
        "AITeQ = joblib.load('AITeQ/AITeQ.version.1.0.joblib')\n",
        "\n",
        "#Run AITeQ\n",
        "AITeQ_predictions = AITeQ.predict(scaled_X)\n",
        "\n",
        "# Convert predictions to a DataFrame\n",
        "AITeQ_predictions = pd.DataFrame(AITeQ_predictions, columns=['Predictions'])\n",
        "AITeQ_predictions['Predictions'] = AITeQ_predictions['Predictions'].map({0: 'Non-AD', 1: 'AD'})\n",
        "AITeQ_predictions = pd.concat([df, AITeQ_predictions], axis=1)\n",
        "\n",
        "AITeQ_predictions = AITeQ_predictions[[\"sample\", \"Predictions\"]]"
      ],
      "metadata": {
        "id": "s5H7pdQHJoYA"
      },
      "execution_count": null,
      "outputs": []
    },
    {
      "cell_type": "markdown",
      "source": [
        "#View Results"
      ],
      "metadata": {
        "id": "qrO_nTD_eHfC"
      }
    },
    {
      "cell_type": "code",
      "source": [
        "AITeQ_predictions"
      ],
      "metadata": {
        "id": "610MPlOHeCF6"
      },
      "execution_count": null,
      "outputs": []
    },
    {
      "cell_type": "markdown",
      "source": [
        "#Save the Results"
      ],
      "metadata": {
        "id": "ON-Xc-JriURJ"
      }
    },
    {
      "cell_type": "code",
      "source": [
        "# Specify the file path where you want to save the .csv file in Colab\n",
        "csv_file_path = '/content/AITeQ_predictions.csv'\n",
        "\n",
        "# Save the DataFrame as a .csv file\n",
        "AITeQ_predictions.to_csv(csv_file_path, index=False)\n",
        "\n",
        "# Download the .csv file to your local machine\n",
        "from google.colab import files\n",
        "files.download(csv_file_path)"
      ],
      "metadata": {
        "id": "VBpjeSKYiVzI"
      },
      "execution_count": null,
      "outputs": []
    }
  ],
  "metadata": {
    "accelerator": "GPU",
    "colab": {
      "provenance": [],
      "collapsed_sections": [
        "ZjOShPhi5kLC",
        "EAJiugxgSXfG",
        "ON-Xc-JriURJ"
      ]
    },
    "gpuClass": "standard",
    "kernelspec": {
      "display_name": "Python 3",
      "name": "python3"
    },
    "language_info": {
      "name": "python"
    }
  },
  "nbformat": 4,
  "nbformat_minor": 0
}