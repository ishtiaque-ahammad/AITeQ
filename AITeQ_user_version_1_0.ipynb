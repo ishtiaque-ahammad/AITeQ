{
  "cells": [
    {
      "cell_type": "markdown",
      "source": [
        "#AITeQ (Alzheimer's Identification Tool using RNA-Seq) version 1.0"
      ],
      "metadata": {
        "id": "5i6t5nVgNtqg"
      }
    },
    {
      "cell_type": "markdown",
      "source": [
        "#Upload Input File"
      ],
      "metadata": {
        "id": "ZjOShPhi5kLC"
      }
    },
    {
      "cell_type": "code",
      "execution_count": null,
      "metadata": {
        "id": "Da3hnOxtIcd3"
      },
      "outputs": [],
      "source": [
        "#Import required libraries\n",
        "from google.colab import files\n",
        "#Upload the CSV file from your local computer\n",
        "uploaded = files.upload()"
      ]
    },
    {
      "cell_type": "markdown",
      "source": [
        "#Make Predictions"
      ],
      "metadata": {
        "id": "EAJiugxgSXfG"
      }
    },
    {
      "cell_type": "code",
      "source": [
        "!git clone https://github.com/ishtiaque-ahammad/AITeQ.git"
      ],
      "metadata": {
        "id": "QNQpeT62e7cd"
      },
      "execution_count": null,
      "outputs": []
    },
    {
      "cell_type": "code",
      "source": [
        "#Import numpy\n",
        "import numpy as np\n",
        "#Import pandas\n",
        "import pandas as pd\n",
        "#Import seaborn\n",
        "import seaborn as sns\n",
        "#Import matplotlib\n",
        "import matplotlib.pyplot as plt\n",
        "%matplotlib inline\n",
        "import joblib"
      ],
      "metadata": {
        "id": "CEzTOR2je8LZ"
      },
      "execution_count": null,
      "outputs": []
    },
    {
      "cell_type": "code",
      "source": [
        "#Read the csv file\n",
        "\n",
        "# Check the uploaded files\n",
        "for filename in uploaded.keys():\n",
        "    print(f'Uploaded file: {filename}')\n",
        "\n",
        "# Assuming you want to read the first uploaded CSV file into a DataFrame\n",
        "if uploaded:\n",
        "    file_name = list(uploaded.keys())[0]  # Get the name of the first uploaded file\n",
        "    df = pd.read_csv(file_name, header=0, index_col=0)\n",
        "    print(f'File \"{file_name}\" has been successfully loaded into df.')\n",
        "else:\n",
        "    print('No CSV file was uploaded.')\n",
        "df"
      ],
      "metadata": {
        "id": "Cdt5XW7RfAv_"
      },
      "execution_count": null,
      "outputs": []
    },
    {
      "cell_type": "code",
      "source": [
        "# Transpose the DataFrame\n",
        "#df_transposed = df.transpose()\n",
        "#df_transposed"
      ],
      "metadata": {
        "id": "QunlSbVPfION"
      },
      "execution_count": null,
      "outputs": []
    },
    {
      "cell_type": "code",
      "source": [
        "#Selection of Features ITGA10 (ENSG00000143127),CXCR4 (ENSG00000121966),ADCYAP1 (ENSG00000141433),SLC6A12 (ENSG00000111181),VGF (ENSG00000128564)\n",
        "#selected_columns = ['ENSG00000143127', 'ENSG00000121966', 'ENSG00000141433', 'ENSG00000111181', 'ENSG00000128564']\n",
        "selected_columns = ['ENSG00000142675',\t'ENSG00000142627',\t'ENSG00000092853',\t'ENSG00000116774',\t'ENSG00000059588']\n",
        "df_selected = df[selected_columns]\n",
        "df_selected"
      ],
      "metadata": {
        "id": "UV9CXNzrfK32"
      },
      "execution_count": null,
      "outputs": []
    },
    {
      "cell_type": "code",
      "source": [
        "#Define X\n",
        "X = df_selected\n",
        "X = pd.DataFrame(X)\n",
        "X"
      ],
      "metadata": {
        "id": "07TChWogfOLM"
      },
      "execution_count": null,
      "outputs": []
    },
    {
      "cell_type": "code",
      "source": [
        "from joblib import load\n",
        "\n",
        "# Load the ensemble model\n",
        "loaded_ensemble_model = joblib.load('/content/AITeQ/ensemble_model.joblib')\n"
      ],
      "metadata": {
        "id": "axAbgExqLObu"
      },
      "execution_count": null,
      "outputs": []
    },
    {
      "cell_type": "code",
      "source": [
        "#Scale the input data\n",
        "from sklearn.preprocessing import StandardScaler\n",
        "#Import the AITeQ model\n",
        "AITeQ = loaded_ensemble_model\n",
        "#Run AITeQ\n",
        "AITeQ_predictions = AITeQ.predict(X.values)\n",
        "#Convert the AITeQ_predictions to a dataframe\n",
        "AITeQ_predictions = pd.DataFrame(AITeQ_predictions, columns=['Predictions'])\n",
        "#Map the predictions: 0 as Non-AD and 1 as AD\n",
        "AITeQ_predictions['Predictions'] = AITeQ_predictions['Predictions'].map({0: 'Non-AD', 1: 'AD'})\n",
        "#Add the sample column next to predictions\n",
        "AITeQ_predictions['Sample'] = X.index"
      ],
      "metadata": {
        "id": "BXsGGPdofUnD"
      },
      "execution_count": null,
      "outputs": []
    },
    {
      "cell_type": "markdown",
      "source": [
        "#View Results"
      ],
      "metadata": {
        "id": "qrO_nTD_eHfC"
      }
    },
    {
      "cell_type": "code",
      "source": [
        "AITeQ_predictions"
      ],
      "metadata": {
        "id": "610MPlOHeCF6"
      },
      "execution_count": null,
      "outputs": []
    },
    {
      "cell_type": "markdown",
      "source": [
        "#Save the Results"
      ],
      "metadata": {
        "id": "ON-Xc-JriURJ"
      }
    },
    {
      "cell_type": "code",
      "source": [
        "# Specify the file path where you want to save the .csv file in Colab\n",
        "csv_file_path = '/content/AITeQ_predictions.csv'\n",
        "\n",
        "# Save the DataFrame as a .csv file\n",
        "AITeQ_predictions.to_csv(csv_file_path, index=False)\n",
        "\n",
        "# Download the .csv file to your local machine\n",
        "from google.colab import files\n",
        "files.download(csv_file_path)"
      ],
      "metadata": {
        "id": "VBpjeSKYiVzI"
      },
      "execution_count": null,
      "outputs": []
    }
  ],
  "metadata": {
    "accelerator": "GPU",
    "colab": {
      "provenance": [],
      "collapsed_sections": [
        "EAJiugxgSXfG",
        "qrO_nTD_eHfC",
        "ON-Xc-JriURJ"
      ]
    },
    "gpuClass": "standard",
    "kernelspec": {
      "display_name": "Python 3",
      "name": "python3"
    },
    "language_info": {
      "name": "python"
    }
  },
  "nbformat": 4,
  "nbformat_minor": 0
}